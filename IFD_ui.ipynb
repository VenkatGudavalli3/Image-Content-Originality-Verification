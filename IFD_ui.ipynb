{
 "cells": [
  {
   "cell_type": "code",
   "execution_count": null,
   "id": "511d8928-177b-4714-b7d7-2f27b24a6690",
   "metadata": {},
   "outputs": [
    {
     "name": "stdout",
     "output_type": "stream",
     "text": [
      "WARNING:tensorflow:From C:\\Users\\venka\\AppData\\Local\\Packages\\PythonSoftwareFoundation.Python.3.11_qbz5n2kfra8p0\\LocalCache\\local-packages\\Python311\\site-packages\\keras\\src\\losses.py:2976: The name tf.losses.sparse_softmax_cross_entropy is deprecated. Please use tf.compat.v1.losses.sparse_softmax_cross_entropy instead.\n",
      "\n",
      "WARNING:tensorflow:From C:\\Users\\venka\\AppData\\Local\\Packages\\PythonSoftwareFoundation.Python.3.11_qbz5n2kfra8p0\\LocalCache\\local-packages\\Python311\\site-packages\\keras\\src\\backend.py:1398: The name tf.executing_eagerly_outside_functions is deprecated. Please use tf.compat.v1.executing_eagerly_outside_functions instead.\n",
      "\n",
      "WARNING:tensorflow:From C:\\Users\\venka\\AppData\\Local\\Packages\\PythonSoftwareFoundation.Python.3.11_qbz5n2kfra8p0\\LocalCache\\local-packages\\Python311\\site-packages\\keras\\src\\layers\\pooling\\max_pooling2d.py:161: The name tf.nn.max_pool is deprecated. Please use tf.nn.max_pool2d instead.\n",
      "\n",
      "1/1 [==============================] - 0s 390ms/step\n"
     ]
    }
   ],
   "source": [
    "import sys\n",
    "from PyQt5 import QtWidgets\n",
    "from PyQt5.QtWidgets import QApplication, QDialog, QFileDialog, QLabel, QMessageBox\n",
    "from PyQt5.uic import loadUi\n",
    "from PyQt5.uic.properties import QtGui\n",
    "from PyQt5.QtGui import QPixmap\n",
    "from PyQt5.QtCore import Qt\n",
    "from ela import convert_to_ela_image\n",
    "from prediction import predict_result\n",
    "\n",
    "\n",
    "class MainWindow(QDialog):\n",
    "    def __init__(self):\n",
    "        super(MainWindow, self).__init__()\n",
    "        loadUi(\"gui.ui\", self)\n",
    "        self.Browse.clicked.connect(self.open_image)\n",
    "        self.Test.clicked.connect(self.result)\n",
    "        self.Quit.clicked.connect(self.close_main_window)\n",
    "\n",
    "    def open_image(self):\n",
    "        # display original image\n",
    "        self.fname = QFileDialog.getOpenFileName(\n",
    "            self, \"Open file\", \"C:'\", (\"*.png, *.xmp *.jpg\")\n",
    "        )\n",
    "        self.filename.setText(self.fname[0])\n",
    "        pixmap = QPixmap(self.fname[0])\n",
    "        self.ORIGINAL_IMAGE.setPixmap(pixmap)\n",
    "        self.ORIGINAL_IMAGE.setPixmap(\n",
    "            pixmap.scaled(self.ORIGINAL_IMAGE.size(), Qt.IgnoreAspectRatio)\n",
    "        )\n",
    "        self.ORIGINAL_IMAGE.show()\n",
    "\n",
    "        # display ela image\n",
    "        convert_to_ela_image(self.fname[0], 90)\n",
    "        pixmap1 = QPixmap(\"ela_image.png\")\n",
    "        self.ELA_IMAGE.setPixmap(pixmap1)\n",
    "        self.ELA_IMAGE.setPixmap(\n",
    "            pixmap1.scaled(self.ELA_IMAGE.size(), Qt.IgnoreAspectRatio)\n",
    "        )\n",
    "        self.ELA_IMAGE.show()\n",
    "\n",
    "    def result(self):\n",
    "        (prediction, confidence) = predict_result((self.fname))\n",
    "        self.Result.setText(f\"Prediction: {prediction}\\nConfidence: {confidence} %\")\n",
    "\n",
    "    def close_main_window(self):\n",
    "        # quit window\n",
    "        reply = QMessageBox.question(\n",
    "            self,\n",
    "            \"Quit\",\n",
    "            \"Are you sure you want to quit?\",\n",
    "            QMessageBox.Cancel | QMessageBox.Close,\n",
    "        )\n",
    "        if reply == QMessageBox.Close:\n",
    "            sys.exit()\n",
    "\n",
    "\n",
    "def main():\n",
    "    app = QApplication(sys.argv)\n",
    "    Result = MainWindow()\n",
    "    widget = QtWidgets.QStackedWidget()\n",
    "    widget.addWidget(Result)\n",
    "    widget.setFixedWidth(620)\n",
    "    widget.setFixedHeight(560)\n",
    "    widget.show()\n",
    "    sys.exit(app.exec_())\n",
    "\n",
    "\n",
    "if __name__ == \"__main__\":\n",
    "    main()\n"
   ]
  },
  {
   "cell_type": "code",
   "execution_count": null,
   "id": "5b244eeb-1692-4d0c-bd9e-06dad89938d2",
   "metadata": {},
   "outputs": [],
   "source": []
  }
 ],
 "metadata": {
  "kernelspec": {
   "display_name": "Python 3 (ipykernel)",
   "language": "python",
   "name": "python3"
  },
  "language_info": {
   "codemirror_mode": {
    "name": "ipython",
    "version": 3
   },
   "file_extension": ".py",
   "mimetype": "text/x-python",
   "name": "python",
   "nbconvert_exporter": "python",
   "pygments_lexer": "ipython3",
   "version": "3.11.8"
  }
 },
 "nbformat": 4,
 "nbformat_minor": 5
}
